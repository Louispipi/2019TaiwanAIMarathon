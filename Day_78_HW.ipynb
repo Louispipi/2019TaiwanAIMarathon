{
 "cells": [
  {
   "cell_type": "markdown",
   "metadata": {},
   "source": [
    "## Work\n",
    "1. 請嘗試將 preproc_x 替換成以每筆資料的 min/max 進行標準化至 -1 ~ 1 間，再進行訓練\n",
    "2. 請嘗試將 mlp 疊更深 (e.g 5~10 層)，進行訓練後觀察 learning curve 的走勢\n",
    "3. (optional) 請改用 GPU 進行訓練 (如果你有 GPU 的話)，比較使用 CPU 與 GPU 的訓練速度"
   ]
  },
  {
   "cell_type": "code",
   "execution_count": 1,
   "metadata": {},
   "outputs": [],
   "source": [
    "## \n",
    "\"\"\"\n",
    "Your code here (optional)\n",
    "確認硬體資源\n",
    "\"\"\"\n"
   ]
  },
  {
   "cell_type": "code",
   "execution_count": 1,
   "metadata": {},
   "outputs": [
    {
     "name": "stderr",
     "output_type": "stream",
     "text": [
      "Using TensorFlow backend.\n"
     ]
    }
   ],
   "source": [
    "import os\n",
    "import keras\n",
    "\n",
    "# 請嘗試設定 GPU：os.environ\n",
    "os.environ[\"CUDA_VISIBLE_DEVICES\"] = \"0\""
   ]
  },
  {
   "cell_type": "code",
   "execution_count": 2,
   "metadata": {},
   "outputs": [],
   "source": [
    "train, test = keras.datasets.cifar10.load_data()"
   ]
  },
  {
   "cell_type": "code",
   "execution_count": 3,
   "metadata": {},
   "outputs": [],
   "source": [
    "x_train, y_train = train\n",
    "x_test, y_test = test"
   ]
  },
  {
   "cell_type": "code",
   "execution_count": 4,
   "metadata": {},
   "outputs": [],
   "source": [
    "## 資料前處理\n",
    "\"\"\"\n",
    "Your code here\n",
    "\"\"\"\n",
    "def preproc_x(x):\n",
    "    x=x.reshape((len(x), -1))\n",
    "    x=x/(x.max()-x.min())\n",
    "    return x\n",
    "def preproc_y(y,num_classes=10):\n",
    "    if y.shape[-1] == 1:  #[-1]表示從後面數來第一項\n",
    "        y = keras.utils.to_categorical(y, num_classes)\n",
    "    return y   "
   ]
  },
  {
   "cell_type": "code",
   "execution_count": 5,
   "metadata": {},
   "outputs": [],
   "source": [
    "x_train, y_train = train\n",
    "x_test, y_test = test\n",
    "\n",
    "# Preproc the inputs\n",
    "x_train = preproc_x(x_train)\n",
    "x_test = preproc_x(x_test)\n",
    "\n",
    "# Preprc the outputs\n",
    "y_train = preproc_y(y_train)\n",
    "y_test = preproc_y(y_test)"
   ]
  },
  {
   "cell_type": "code",
   "execution_count": 14,
   "metadata": {},
   "outputs": [],
   "source": [
    "\"\"\"Code Here\n",
    "建立你的神經網路\n",
    "\"\"\"\n",
    "def build_mlp(input_shape,output_units=10, num_neurons=[512, 256, 128,64,32]):\n",
    "    input_layer = keras.layers.Input(input_shape)\n",
    "    for i, n_units in enumerate(num_neurons):\n",
    "        if i == 0:\n",
    "            x = keras.layers.Dense(units=n_units, activation=\"relu\", name=\"hidden_layer\"+str(i+1))(input_layer)\n",
    "        else:\n",
    "            x = keras.layers.Dense(units=n_units, activation=\"relu\", name=\"hidden_layer\"+str(i+1))(x)\n",
    "            \n",
    "    out = keras.layers.Dense(units=output_units, activation=\"softmax\", name=\"output\")(x)\n",
    "    \n",
    "    model = keras.models.Model(inputs=[input_layer], outputs=[out])\n",
    "    return model\n"
   ]
  },
  {
   "cell_type": "code",
   "execution_count": 17,
   "metadata": {},
   "outputs": [],
   "source": [
    "## 超參數設定\n",
    "LEARNING_RATE = 0.001\n",
    "EPOCHS = 50\n",
    "BATCH_SIZE = 256"
   ]
  },
  {
   "cell_type": "code",
   "execution_count": 18,
   "metadata": {},
   "outputs": [],
   "source": [
    "model = build_mlp(input_shape=x_train.shape[1:])\n",
    "optimizer = keras.optimizers.Adam(lr=LEARNING_RATE)\n",
    "model.compile(loss=\"categorical_crossentropy\", metrics=[\"accuracy\"], optimizer=optimizer)"
   ]
  },
  {
   "cell_type": "code",
   "execution_count": 19,
   "metadata": {},
   "outputs": [
    {
     "name": "stdout",
     "output_type": "stream",
     "text": [
      "Train on 50000 samples, validate on 10000 samples\n",
      "Epoch 1/50\n",
      "50000/50000 [==============================] - 27s 543us/step - loss: 2.0027 - acc: 0.2663 - val_loss: 1.8160 - val_acc: 0.3367\n",
      "Epoch 2/50\n",
      "50000/50000 [==============================] - 19s 376us/step - loss: 1.7669 - acc: 0.3609 - val_loss: 1.6834 - val_acc: 0.3920\n",
      "Epoch 3/50\n",
      "50000/50000 [==============================] - 21s 425us/step - loss: 1.6742 - acc: 0.3970 - val_loss: 1.6037 - val_acc: 0.4305\n",
      "Epoch 4/50\n",
      "50000/50000 [==============================] - 22s 438us/step - loss: 1.5941 - acc: 0.4307 - val_loss: 1.6265 - val_acc: 0.4199\n",
      "Epoch 5/50\n",
      "50000/50000 [==============================] - 22s 435us/step - loss: 1.5385 - acc: 0.4490 - val_loss: 1.5171 - val_acc: 0.4611\n",
      "Epoch 6/50\n",
      "50000/50000 [==============================] - 22s 434us/step - loss: 1.5035 - acc: 0.4615 - val_loss: 1.5173 - val_acc: 0.4593\n",
      "Epoch 7/50\n",
      "50000/50000 [==============================] - 22s 432us/step - loss: 1.4618 - acc: 0.4780 - val_loss: 1.4525 - val_acc: 0.4844\n",
      "Epoch 8/50\n",
      "50000/50000 [==============================] - 22s 434us/step - loss: 1.4309 - acc: 0.4873 - val_loss: 1.4982 - val_acc: 0.4602\n",
      "Epoch 9/50\n",
      "50000/50000 [==============================] - 22s 434us/step - loss: 1.4039 - acc: 0.4984 - val_loss: 1.4729 - val_acc: 0.4705\n",
      "Epoch 10/50\n",
      "50000/50000 [==============================] - 22s 438us/step - loss: 1.3784 - acc: 0.5068 - val_loss: 1.4193 - val_acc: 0.5011\n",
      "Epoch 11/50\n",
      "50000/50000 [==============================] - 22s 439us/step - loss: 1.3485 - acc: 0.5181 - val_loss: 1.4507 - val_acc: 0.4814\n",
      "Epoch 12/50\n",
      "50000/50000 [==============================] - 22s 443us/step - loss: 1.3264 - acc: 0.5273 - val_loss: 1.4152 - val_acc: 0.4933\n",
      "Epoch 13/50\n",
      "50000/50000 [==============================] - 22s 437us/step - loss: 1.3062 - acc: 0.5336 - val_loss: 1.4016 - val_acc: 0.4994\n",
      "Epoch 14/50\n",
      "50000/50000 [==============================] - 22s 443us/step - loss: 1.2850 - acc: 0.5422 - val_loss: 1.4051 - val_acc: 0.5021\n",
      "Epoch 15/50\n",
      "50000/50000 [==============================] - 22s 444us/step - loss: 1.2696 - acc: 0.5498 - val_loss: 1.4166 - val_acc: 0.5039\n",
      "Epoch 16/50\n",
      "50000/50000 [==============================] - 22s 442us/step - loss: 1.2401 - acc: 0.5558 - val_loss: 1.3692 - val_acc: 0.5202\n",
      "Epoch 17/50\n",
      "50000/50000 [==============================] - 22s 440us/step - loss: 1.2264 - acc: 0.5610 - val_loss: 1.3796 - val_acc: 0.5118\n",
      "Epoch 18/50\n",
      "50000/50000 [==============================] - 22s 437us/step - loss: 1.2004 - acc: 0.5713 - val_loss: 1.4015 - val_acc: 0.5109\n",
      "Epoch 19/50\n",
      "50000/50000 [==============================] - 22s 440us/step - loss: 1.1769 - acc: 0.5793 - val_loss: 1.4394 - val_acc: 0.4938\n",
      "Epoch 20/50\n",
      "50000/50000 [==============================] - 22s 440us/step - loss: 1.1574 - acc: 0.5856 - val_loss: 1.4158 - val_acc: 0.5060\n",
      "Epoch 21/50\n",
      "50000/50000 [==============================] - 21s 427us/step - loss: 1.1400 - acc: 0.5931 - val_loss: 1.3812 - val_acc: 0.5211\n",
      "Epoch 22/50\n",
      "50000/50000 [==============================] - 22s 437us/step - loss: 1.1324 - acc: 0.5953 - val_loss: 1.3757 - val_acc: 0.5202\n",
      "Epoch 23/50\n",
      "50000/50000 [==============================] - 22s 436us/step - loss: 1.1047 - acc: 0.6045 - val_loss: 1.4087 - val_acc: 0.5126\n",
      "Epoch 24/50\n",
      "50000/50000 [==============================] - 22s 443us/step - loss: 1.0857 - acc: 0.6107 - val_loss: 1.3687 - val_acc: 0.5273\n",
      "Epoch 25/50\n",
      "50000/50000 [==============================] - 23s 451us/step - loss: 1.0587 - acc: 0.6200 - val_loss: 1.3883 - val_acc: 0.5283\n",
      "Epoch 26/50\n",
      "50000/50000 [==============================] - 27s 542us/step - loss: 1.0518 - acc: 0.6258 - val_loss: 1.3737 - val_acc: 0.5308\n",
      "Epoch 27/50\n",
      "50000/50000 [==============================] - 27s 530us/step - loss: 1.0278 - acc: 0.6316 - val_loss: 1.3963 - val_acc: 0.5253\n",
      "Epoch 28/50\n",
      "50000/50000 [==============================] - 23s 467us/step - loss: 1.0137 - acc: 0.6362 - val_loss: 1.4143 - val_acc: 0.5233\n",
      "Epoch 29/50\n",
      "50000/50000 [==============================] - 23s 455us/step - loss: 0.9941 - acc: 0.6451 - val_loss: 1.4317 - val_acc: 0.5201\n",
      "Epoch 30/50\n",
      "50000/50000 [==============================] - 22s 437us/step - loss: 0.9775 - acc: 0.6483 - val_loss: 1.4767 - val_acc: 0.5099\n",
      "Epoch 31/50\n",
      "50000/50000 [==============================] - 22s 431us/step - loss: 0.9545 - acc: 0.6577 - val_loss: 1.4382 - val_acc: 0.5230\n",
      "Epoch 32/50\n",
      "50000/50000 [==============================] - 21s 429us/step - loss: 0.9458 - acc: 0.6626 - val_loss: 1.4842 - val_acc: 0.5140\n",
      "Epoch 33/50\n",
      "50000/50000 [==============================] - 22s 431us/step - loss: 0.9202 - acc: 0.6705 - val_loss: 1.5072 - val_acc: 0.5163\n",
      "Epoch 34/50\n",
      "50000/50000 [==============================] - 21s 421us/step - loss: 0.9112 - acc: 0.6726 - val_loss: 1.4925 - val_acc: 0.5156\n",
      "Epoch 35/50\n",
      "50000/50000 [==============================] - 22s 432us/step - loss: 0.8907 - acc: 0.6815 - val_loss: 1.4548 - val_acc: 0.5235\n",
      "Epoch 36/50\n",
      "50000/50000 [==============================] - 26s 529us/step - loss: 0.8767 - acc: 0.6860 - val_loss: 1.4994 - val_acc: 0.5261\n",
      "Epoch 37/50\n",
      "50000/50000 [==============================] - 23s 459us/step - loss: 0.8599 - acc: 0.6933 - val_loss: 1.5009 - val_acc: 0.5204\n",
      "Epoch 38/50\n",
      "50000/50000 [==============================] - 22s 433us/step - loss: 0.8293 - acc: 0.7025 - val_loss: 1.6097 - val_acc: 0.5224\n",
      "Epoch 39/50\n",
      "50000/50000 [==============================] - 21s 427us/step - loss: 0.8258 - acc: 0.7041 - val_loss: 1.5633 - val_acc: 0.5180\n",
      "Epoch 40/50\n",
      "50000/50000 [==============================] - 21s 429us/step - loss: 0.8042 - acc: 0.7120 - val_loss: 1.5516 - val_acc: 0.5295\n",
      "Epoch 41/50\n",
      "50000/50000 [==============================] - 21s 428us/step - loss: 0.7995 - acc: 0.7118 - val_loss: 1.5525 - val_acc: 0.5199\n",
      "Epoch 42/50\n",
      "50000/50000 [==============================] - 21s 426us/step - loss: 0.7907 - acc: 0.7184 - val_loss: 1.6106 - val_acc: 0.5111\n",
      "Epoch 43/50\n",
      "50000/50000 [==============================] - 21s 423us/step - loss: 0.7544 - acc: 0.7308 - val_loss: 1.6429 - val_acc: 0.5194\n",
      "Epoch 44/50\n",
      "50000/50000 [==============================] - 22s 433us/step - loss: 0.7513 - acc: 0.7315 - val_loss: 1.6395 - val_acc: 0.5185\n",
      "Epoch 45/50\n",
      "50000/50000 [==============================] - 21s 428us/step - loss: 0.7362 - acc: 0.7353 - val_loss: 1.6323 - val_acc: 0.5214\n",
      "Epoch 46/50\n",
      "50000/50000 [==============================] - 21s 427us/step - loss: 0.7237 - acc: 0.7406 - val_loss: 1.7253 - val_acc: 0.5048\n",
      "Epoch 47/50\n",
      "50000/50000 [==============================] - 21s 421us/step - loss: 0.7049 - acc: 0.7482 - val_loss: 1.7262 - val_acc: 0.5104\n",
      "Epoch 48/50\n",
      "50000/50000 [==============================] - 21s 424us/step - loss: 0.6943 - acc: 0.7502 - val_loss: 1.7881 - val_acc: 0.5118\n",
      "Epoch 49/50\n",
      "50000/50000 [==============================] - 21s 430us/step - loss: 0.6862 - acc: 0.7534 - val_loss: 1.7585 - val_acc: 0.5167\n",
      "Epoch 50/50\n",
      "50000/50000 [==============================] - 21s 426us/step - loss: 0.6605 - acc: 0.7636 - val_loss: 1.8642 - val_acc: 0.5036\n"
     ]
    },
    {
     "data": {
      "text/plain": [
       "<keras.callbacks.History at 0x24c8963e438>"
      ]
     },
     "execution_count": 19,
     "metadata": {},
     "output_type": "execute_result"
    }
   ],
   "source": [
    "model.fit(x_train, y_train, \n",
    "          epochs=EPOCHS, \n",
    "          batch_size=BATCH_SIZE, \n",
    "          validation_data=(x_test, y_test), \n",
    "          shuffle=True)"
   ]
  },
  {
   "cell_type": "code",
   "execution_count": 22,
   "metadata": {},
   "outputs": [
    {
     "data": {
      "image/png": "[encoded data removed]",
      "text/plain": [
       "<matplotlib.figure.Figure at 0x24c8a69d0b8>"
      ]
     },
     "metadata": {},
     "output_type": "display_data"
    },
    {
     "data": {
      "text/plain": [
       "Text(0.5,1,'Accuracy')"
      ]
     },
     "execution_count": 22,
     "metadata": {},
     "output_type": "execute_result"
    },
    {
     "data": {
      "image/png": "[encoded data removed]",
      "text/plain": [
       "<matplotlib.figure.Figure at 0x24c8c9534e0>"
      ]
     },
     "metadata": {},
     "output_type": "display_data"
    }
   ],
   "source": [
    "import matplotlib.pyplot as plt\n",
    "\n",
    "\n",
    "train_loss = model.history.history[\"loss\"]\n",
    "valid_loss = model.history.history[\"val_loss\"]\n",
    "\n",
    "train_acc = model.history.history[\"acc\"]\n",
    "valid_acc = model.history.history[\"val_acc\"]\n",
    "\n",
    "plt.plot(range(len(train_loss)), train_loss, label=\"train loss\")\n",
    "plt.plot(range(len(valid_loss)), valid_loss, label=\"valid loss\")\n",
    "plt.legend()\n",
    "plt.title(\"Loss\")\n",
    "plt.show()\n",
    "\n",
    "plt.plot(range(len(train_acc)), train_acc, label=\"train accuracy\")\n",
    "plt.plot(range(len(valid_acc)), valid_acc, label=\"valid accuracy\")\n",
    "plt.legend()\n",
    "plt.title(\"Accuracy\")\n",
    "#plt.show()"
   ]
  }
 ],
 "metadata": {
  "kernelspec": {
   "display_name": "Python 3",
   "language": "python",
   "name": "python3"
  },
  "language_info": {
   "codemirror_mode": {
    "name": "ipython",
    "version": 3
   },
   "file_extension": ".py",
   "mimetype": "text/x-python",
   "name": "python",
   "nbconvert_exporter": "python",
   "pygments_lexer": "ipython3",
   "version": "3.6.8"
  }
 },
 "nbformat": 4,
 "nbformat_minor": 2
}
