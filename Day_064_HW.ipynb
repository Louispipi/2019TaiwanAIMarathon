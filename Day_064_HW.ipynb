{
 "cells": [
  {
   "cell_type": "markdown",
   "metadata": {},
   "source": [
    "# 作業\n",
    "* 選擇迴歸資料集(右) - 交錯六群，在其他參數保持預設值的情況下，只允許調整隱藏層層數與神經元數量，且遵守下列限制   \n",
    "> * 隱藏層神經元總數最多 8 個 (即 : 可以單層 8 個，或兩層 5 個與 3 個)   \n",
    "> * 遞迴次數只允許跑到500次  \n",
    "* 在上述限制下，挑戰看看測試誤差 (Test Loss) 最低能到多少? 請回答你的神經元參數與 Test Loss 數"
   ]
  },
  {
   "cell_type": "markdown",
   "metadata": {
    "collapsed": true
   },
   "source": []
  },
  {
   "cell_type": "markdown",
   "metadata": {},
   "source": [
    "![](https://lh3.googleusercontent.com/LHLC2KGiXTnbWGiJaPKgSNIyH2hRUlY-2UbTmNKoSRXhGBmJkrb7kYa7rnl5WgkrPPcM7fUnSPvVDUNU7129tS1AaBpk5MtxY_XhXM42vbb8z50CUHOizgfK8Eo8NwP7iFd1mRgvGiNPVOrgRxxNsUqE7aiWmCqrHhY4PafE_DWYdpEX5ynkt3Ru9kAq0vxer_MYEqvXNjQ6ZI8Wc0_wsJM9ZX-gTv6Ljp3Xz9ft5b0BiE0kwKb5HThaKPNrBowL_PX3RSSAZMt29sRHRPrM7bLf4-HQmgoDXchRWcEbkbYNrS__K6U7j5cdXfaOVYgRO9WjV12qTvVcQGqc3O2lRJ6cqxaa-rjVchy5Dum5WMeicNSOmy97M2Ys0PE-itUI-vDCqY0YpyZaXEoLmMkNgIuWz6WkkXWtyW6k6JkQ9nAz1cqoQWXtnW4aMtfmjUcuLKXWye7cu1trqZ1CXSGUsNNFFGHA9O_A8o7hqIEguOl6EPtlAKUSECXOTMRggL0kVpFy1AqrYL84b66oL6YkH6DGNE1adgaaI3BmLdpXq4tmhrrcxmdx3lYtRvrdY4LqhWxSBztODTYJBwVAyyGiwFzEPfYKJcfeDB6p4KM2NsMEyeucAMqeMa_CMvE2TwI_6vrJJwMRyiTpz0eCyp_Dsjh6bGU9oGnMn7kd9aMeHzchauWx6s4_4DjnpKQfDzBcrbGSzIfQMgQjW9wMwuOVBAu45Q=w2648-h1280-no)"
   ]
  }
 ],
 "metadata": {
  "kernelspec": {
   "display_name": "Python 3",
   "language": "python",
   "name": "python3"
  },
  "language_info": {
   "codemirror_mode": {
    "name": "ipython",
    "version": 3
   },
   "file_extension": ".py",
   "mimetype": "text/x-python",
   "name": "python",
   "nbconvert_exporter": "python",
   "pygments_lexer": "ipython3",
   "version": "3.6.4"
  }
 },
 "nbformat": 4,
 "nbformat_minor": 2
}
