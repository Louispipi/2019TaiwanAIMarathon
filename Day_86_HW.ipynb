{
 "cells": [
  {
   "cell_type": "markdown",
   "metadata": {},
   "source": [
    "## Work\n",
    "1. 試比較 save_best_only 與否的差異\n",
    "2. 請僅存入將 save_weights_only 設定為 True, 並嘗試 reset ipynb 並將模型與權重重新建回並預測 x_test"
   ]
  },
  {
   "cell_type": "code",
   "execution_count": 1,
   "metadata": {},
   "outputs": [
    {
     "name": "stderr",
     "output_type": "stream",
     "text": [
      "Using TensorFlow backend.\n"
     ]
    }
   ],
   "source": [
    "import os\n",
    "import keras"
   ]
  },
  {
   "cell_type": "code",
   "execution_count": 2,
   "metadata": {},
   "outputs": [],
   "source": [
    "train, test = keras.datasets.cifar10.load_data()"
   ]
  },
  {
   "cell_type": "code",
   "execution_count": 3,
   "metadata": {},
   "outputs": [],
   "source": [
    "## 資料前處理\n",
    "def preproc_x(x, flatten=True):\n",
    "    x = x / 255.\n",
    "    if flatten:\n",
    "        x = x.reshape((len(x), -1))\n",
    "    return x\n",
    "\n",
    "def preproc_y(y, num_classes=10):\n",
    "    if y.shape[-1] == 1:\n",
    "        y = keras.utils.to_categorical(y, num_classes)\n",
    "    return y    "
   ]
  },
  {
   "cell_type": "code",
   "execution_count": 4,
   "metadata": {},
   "outputs": [],
   "source": [
    "x_train, y_train = train\n",
    "x_test, y_test = test\n",
    "\n",
    "# Preproc the inputs\n",
    "x_train = preproc_x(x_train)\n",
    "x_test = preproc_x(x_test)\n",
    "\n",
    "# Preprc the outputs\n",
    "y_train = preproc_y(y_train)\n",
    "y_test = preproc_y(y_test)"
   ]
  },
  {
   "cell_type": "code",
   "execution_count": 5,
   "metadata": {},
   "outputs": [],
   "source": [
    "from keras.layers import BatchNormalization\n",
    "def build_mlp(input_shape, output_units=10, num_neurons=[256, 128]):\n",
    "    input_layer = keras.layers.Input(input_shape)\n",
    "    \n",
    "    for i, n_units in enumerate(num_neurons):\n",
    "        if i == 0:\n",
    "            x = keras.layers.Dense(units=n_units, \n",
    "                                   activation=\"relu\", \n",
    "                                   name=\"hidden_layer\"+str(i+1))(input_layer)\n",
    "            x = BatchNormalization()(x)\n",
    "        else:\n",
    "            x = keras.layers.Dense(units=n_units, \n",
    "                                   activation=\"relu\", \n",
    "                                   name=\"hidden_layer\"+str(i+1))(x)\n",
    "            x = BatchNormalization()(x)\n",
    "    \n",
    "    out = keras.layers.Dense(units=output_units, activation=\"softmax\", name=\"output\")(x)\n",
    "    \n",
    "    model = keras.models.Model(inputs=[input_layer], outputs=[out])\n",
    "    return model"
   ]
  },
  {
   "cell_type": "code",
   "execution_count": 6,
   "metadata": {},
   "outputs": [],
   "source": [
    "\"\"\"Code Here\n",
    "設定超參數\n",
    "\"\"\"\n",
    "LEARNING_RATE = 1e-3\n",
    "EPOCHS = 50\n",
    "BATCH_SIZE = 512\n",
    "MOMENTUM = 0.95"
   ]
  },
  {
   "cell_type": "code",
   "execution_count": 7,
   "metadata": {},
   "outputs": [
    {
     "name": "stderr",
     "output_type": "stream",
     "text": [
      "WARNING: Logging before flag parsing goes to stderr.\n",
      "W0724 18:56:24.307174  8104 deprecation_wrapper.py:119] From C:\\Users\\user\\Anaconda3\\lib\\site-packages\\keras\\backend\\tensorflow_backend.py:74: The name tf.get_default_graph is deprecated. Please use tf.compat.v1.get_default_graph instead.\n",
      "\n",
      "W0724 18:56:24.351261  8104 deprecation_wrapper.py:119] From C:\\Users\\user\\Anaconda3\\lib\\site-packages\\keras\\backend\\tensorflow_backend.py:517: The name tf.placeholder is deprecated. Please use tf.compat.v1.placeholder instead.\n",
      "\n",
      "W0724 18:56:24.356861  8104 deprecation_wrapper.py:119] From C:\\Users\\user\\Anaconda3\\lib\\site-packages\\keras\\backend\\tensorflow_backend.py:4138: The name tf.random_uniform is deprecated. Please use tf.random.uniform instead.\n",
      "\n",
      "W0724 18:56:24.528471  8104 deprecation_wrapper.py:119] From C:\\Users\\user\\Anaconda3\\lib\\site-packages\\keras\\backend\\tensorflow_backend.py:133: The name tf.placeholder_with_default is deprecated. Please use tf.compat.v1.placeholder_with_default instead.\n",
      "\n",
      "W0724 18:56:24.761961  8104 deprecation_wrapper.py:119] From C:\\Users\\user\\Anaconda3\\lib\\site-packages\\keras\\optimizers.py:790: The name tf.train.Optimizer is deprecated. Please use tf.compat.v1.train.Optimizer instead.\n",
      "\n",
      "W0724 18:56:24.787195  8104 deprecation_wrapper.py:119] From C:\\Users\\user\\Anaconda3\\lib\\site-packages\\keras\\backend\\tensorflow_backend.py:3295: The name tf.log is deprecated. Please use tf.math.log instead.\n",
      "\n"
     ]
    },
    {
     "name": "stdout",
     "output_type": "stream",
     "text": [
      "_________________________________________________________________\n",
      "Layer (type)                 Output Shape              Param #   \n",
      "=================================================================\n",
      "input_1 (InputLayer)         (None, 3072)              0         \n",
      "_________________________________________________________________\n",
      "hidden_layer1 (Dense)        (None, 256)               786688    \n",
      "_________________________________________________________________\n",
      "batch_normalization_1 (Batch (None, 256)               1024      \n",
      "_________________________________________________________________\n",
      "hidden_layer2 (Dense)        (None, 128)               32896     \n",
      "_________________________________________________________________\n",
      "batch_normalization_2 (Batch (None, 128)               512       \n",
      "_________________________________________________________________\n",
      "output (Dense)               (None, 10)                1290      \n",
      "=================================================================\n",
      "Total params: 822,410\n",
      "Trainable params: 821,642\n",
      "Non-trainable params: 768\n",
      "_________________________________________________________________\n"
     ]
    },
    {
     "name": "stderr",
     "output_type": "stream",
     "text": [
      "W0724 18:56:25.037646  8104 deprecation.py:323] From C:\\Users\\user\\Anaconda3\\lib\\site-packages\\tensorflow\\python\\ops\\math_grad.py:1250: add_dispatch_support.<locals>.wrapper (from tensorflow.python.ops.array_ops) is deprecated and will be removed in a future version.\n",
      "Instructions for updating:\n",
      "Use tf.where in 2.0, which has the same broadcast rule as np.where\n"
     ]
    },
    {
     "name": "stdout",
     "output_type": "stream",
     "text": [
      "Train on 50000 samples, validate on 10000 samples\n",
      "Epoch 1/50\n",
      "50000/50000 [==============================] - 9s 187us/step - loss: 2.0238 - acc: 0.3189 - val_loss: 1.8315 - val_acc: 0.3679\n",
      "Epoch 2/50\n",
      "50000/50000 [==============================] - 8s 160us/step - loss: 1.6565 - acc: 0.4208 - val_loss: 1.6537 - val_acc: 0.4204\n",
      "Epoch 3/50\n",
      "50000/50000 [==============================] - 8s 158us/step - loss: 1.5708 - acc: 0.4523 - val_loss: 1.6092 - val_acc: 0.4373\n",
      "Epoch 4/50\n",
      "50000/50000 [==============================] - 8s 155us/step - loss: 1.5129 - acc: 0.4726 - val_loss: 1.5553 - val_acc: 0.4556\n",
      "Epoch 5/50\n",
      "50000/50000 [==============================] - 8s 155us/step - loss: 1.4665 - acc: 0.4899 - val_loss: 1.5271 - val_acc: 0.4587\n",
      "Epoch 6/50\n",
      "50000/50000 [==============================] - 8s 156us/step - loss: 1.4296 - acc: 0.5028 - val_loss: 1.5530 - val_acc: 0.4474\n",
      "Epoch 7/50\n",
      "50000/50000 [==============================] - 8s 155us/step - loss: 1.3978 - acc: 0.5175 - val_loss: 1.5008 - val_acc: 0.4664\n",
      "Epoch 8/50\n",
      "50000/50000 [==============================] - 8s 156us/step - loss: 1.3682 - acc: 0.5231 - val_loss: 1.4862 - val_acc: 0.4744\n",
      "Epoch 9/50\n",
      "50000/50000 [==============================] - 7s 148us/step - loss: 1.3414 - acc: 0.5362 - val_loss: 1.4746 - val_acc: 0.4751\n",
      "Epoch 10/50\n",
      "50000/50000 [==============================] - 8s 155us/step - loss: 1.3165 - acc: 0.5416 - val_loss: 1.4510 - val_acc: 0.4860\n",
      "Epoch 11/50\n",
      "50000/50000 [==============================] - 8s 156us/step - loss: 1.2956 - acc: 0.5492 - val_loss: 1.4547 - val_acc: 0.4848\n",
      "Epoch 12/50\n",
      "50000/50000 [==============================] - 8s 159us/step - loss: 1.2720 - acc: 0.5581 - val_loss: 1.4524 - val_acc: 0.4872\n",
      "Epoch 13/50\n",
      "50000/50000 [==============================] - 8s 156us/step - loss: 1.2531 - acc: 0.5659 - val_loss: 1.4542 - val_acc: 0.4848\n",
      "Epoch 14/50\n",
      "50000/50000 [==============================] - 8s 156us/step - loss: 1.2344 - acc: 0.5715 - val_loss: 1.4445 - val_acc: 0.4884\n",
      "Epoch 15/50\n",
      "50000/50000 [==============================] - 8s 156us/step - loss: 1.2159 - acc: 0.5784 - val_loss: 1.4286 - val_acc: 0.4915\n",
      "Epoch 16/50\n",
      "50000/50000 [==============================] - 8s 156us/step - loss: 1.1960 - acc: 0.5849 - val_loss: 1.4629 - val_acc: 0.4869\n",
      "Epoch 17/50\n",
      "50000/50000 [==============================] - 8s 157us/step - loss: 1.1794 - acc: 0.5909 - val_loss: 1.4327 - val_acc: 0.4965\n",
      "Epoch 18/50\n",
      "50000/50000 [==============================] - 8s 157us/step - loss: 1.1623 - acc: 0.5985 - val_loss: 1.4128 - val_acc: 0.5022\n",
      "Epoch 19/50\n",
      "50000/50000 [==============================] - 8s 153us/step - loss: 1.1459 - acc: 0.6050 - val_loss: 1.4133 - val_acc: 0.5007\n",
      "Epoch 20/50\n",
      "50000/50000 [==============================] - 8s 154us/step - loss: 1.1292 - acc: 0.6100 - val_loss: 1.4245 - val_acc: 0.4978\n",
      "Epoch 21/50\n",
      "50000/50000 [==============================] - 8s 152us/step - loss: 1.1131 - acc: 0.6155 - val_loss: 1.4477 - val_acc: 0.4927\n",
      "Epoch 22/50\n",
      "50000/50000 [==============================] - 8s 153us/step - loss: 1.0987 - acc: 0.6208 - val_loss: 1.4662 - val_acc: 0.4839\n",
      "Epoch 23/50\n",
      "50000/50000 [==============================] - 8s 152us/step - loss: 1.0830 - acc: 0.6255 - val_loss: 1.4422 - val_acc: 0.4936\n",
      "Epoch 24/50\n",
      "50000/50000 [==============================] - 8s 153us/step - loss: 1.0654 - acc: 0.6318 - val_loss: 1.4340 - val_acc: 0.4970\n",
      "Epoch 25/50\n",
      "50000/50000 [==============================] - 7s 149us/step - loss: 1.0512 - acc: 0.6393 - val_loss: 1.4292 - val_acc: 0.4997\n",
      "Epoch 26/50\n",
      "50000/50000 [==============================] - 8s 152us/step - loss: 1.0351 - acc: 0.6426 - val_loss: 1.4437 - val_acc: 0.4965\n",
      "Epoch 27/50\n",
      "50000/50000 [==============================] - 8s 152us/step - loss: 1.0241 - acc: 0.6487 - val_loss: 1.4371 - val_acc: 0.4998\n",
      "Epoch 28/50\n",
      "50000/50000 [==============================] - 8s 152us/step - loss: 1.0050 - acc: 0.6559 - val_loss: 1.4167 - val_acc: 0.5131\n",
      "Epoch 29/50\n",
      "50000/50000 [==============================] - 8s 152us/step - loss: 0.9901 - acc: 0.6613 - val_loss: 1.4632 - val_acc: 0.4978\n",
      "Epoch 30/50\n",
      "50000/50000 [==============================] - 8s 152us/step - loss: 0.9776 - acc: 0.6669 - val_loss: 1.4256 - val_acc: 0.5072\n",
      "Epoch 31/50\n",
      "50000/50000 [==============================] - 7s 149us/step - loss: 0.9620 - acc: 0.6724 - val_loss: 1.4540 - val_acc: 0.4990\n",
      "Epoch 32/50\n",
      "50000/50000 [==============================] - 8s 150us/step - loss: 0.9482 - acc: 0.6765 - val_loss: 1.4719 - val_acc: 0.4952\n",
      "Epoch 33/50\n",
      "50000/50000 [==============================] - 8s 152us/step - loss: 0.9337 - acc: 0.6832 - val_loss: 1.4474 - val_acc: 0.5034\n",
      "Epoch 34/50\n",
      "50000/50000 [==============================] - 8s 151us/step - loss: 0.9215 - acc: 0.6864 - val_loss: 1.4833 - val_acc: 0.4966\n",
      "Epoch 35/50\n",
      "50000/50000 [==============================] - 8s 152us/step - loss: 0.9060 - acc: 0.6927 - val_loss: 1.4638 - val_acc: 0.4961\n",
      "Epoch 36/50\n",
      "50000/50000 [==============================] - 8s 154us/step - loss: 0.8912 - acc: 0.6972 - val_loss: 1.4779 - val_acc: 0.5016\n",
      "Epoch 37/50\n",
      "50000/50000 [==============================] - 8s 151us/step - loss: 0.8794 - acc: 0.7014 - val_loss: 1.5270 - val_acc: 0.4923\n",
      "Epoch 38/50\n",
      "50000/50000 [==============================] - 7s 149us/step - loss: 0.8655 - acc: 0.7090 - val_loss: 1.5774 - val_acc: 0.4862\n",
      "Epoch 39/50\n",
      "50000/50000 [==============================] - 8s 151us/step - loss: 0.8540 - acc: 0.7101 - val_loss: 1.4853 - val_acc: 0.5061\n",
      "Epoch 40/50\n",
      "50000/50000 [==============================] - 8s 151us/step - loss: 0.8364 - acc: 0.7187 - val_loss: 1.4741 - val_acc: 0.5099\n",
      "Epoch 41/50\n",
      "50000/50000 [==============================] - 7s 148us/step - loss: 0.8234 - acc: 0.7230 - val_loss: 1.5391 - val_acc: 0.4935\n",
      "Epoch 42/50\n",
      "50000/50000 [==============================] - 7s 149us/step - loss: 0.8126 - acc: 0.7267 - val_loss: 1.5323 - val_acc: 0.4927\n",
      "Epoch 43/50\n",
      "50000/50000 [==============================] - 7s 145us/step - loss: 0.7990 - acc: 0.7319 - val_loss: 1.4987 - val_acc: 0.5023\n",
      "Epoch 44/50\n",
      "50000/50000 [==============================] - 7s 144us/step - loss: 0.7875 - acc: 0.7381 - val_loss: 1.5845 - val_acc: 0.4898\n",
      "Epoch 45/50\n",
      "50000/50000 [==============================] - 7s 146us/step - loss: 0.7728 - acc: 0.7414 - val_loss: 1.5699 - val_acc: 0.4877\n",
      "Epoch 46/50\n",
      "50000/50000 [==============================] - 7s 149us/step - loss: 0.7620 - acc: 0.7463 - val_loss: 1.5699 - val_acc: 0.4936\n",
      "Epoch 47/50\n",
      "50000/50000 [==============================] - 7s 148us/step - loss: 0.7471 - acc: 0.7501 - val_loss: 1.5909 - val_acc: 0.4938\n",
      "Epoch 48/50\n",
      "50000/50000 [==============================] - 7s 146us/step - loss: 0.7373 - acc: 0.7536 - val_loss: 1.5521 - val_acc: 0.4981\n",
      "Epoch 49/50\n",
      "50000/50000 [==============================] - 7s 144us/step - loss: 0.7221 - acc: 0.7593 - val_loss: 1.6147 - val_acc: 0.4909\n",
      "Epoch 50/50\n",
      "50000/50000 [==============================] - 7s 145us/step - loss: 0.7079 - acc: 0.7642 - val_loss: 1.6204 - val_acc: 0.4792\n",
      "10000/10000 [==============================] - 1s 131us/step\n"
     ]
    }
   ],
   "source": [
    "# 載入 Callbacks\n",
    "\"\"\"Code Here\n",
    "設定 callbacks: model checkpoint\n",
    "\"\"\"\n",
    "from keras.callbacks import ModelCheckpoint\n",
    "\n",
    "model_ckpt = ModelCheckpoint(filepath=\"./tmp.h5\",  monitor=\"val_loss\", save_best_only=False)\n",
    "\n",
    "results = {}\n",
    "\"\"\"Code Here\n",
    "撰寫你的訓練流程並將結果用 dictionary 紀錄\n",
    "\"\"\"\n",
    "model = build_mlp(input_shape=x_train.shape[1:])\n",
    "model.summary()\n",
    "optimizer = keras.optimizers.SGD(lr=LEARNING_RATE, nesterov=True, momentum=MOMENTUM)\n",
    "model.compile(loss=\"categorical_crossentropy\", metrics=[\"accuracy\"], optimizer=optimizer)\n",
    "\n",
    "model.fit(x_train, y_train, \n",
    "          epochs=EPOCHS, \n",
    "          batch_size=BATCH_SIZE, \n",
    "          validation_data=(x_test, y_test), \n",
    "          shuffle=True,\n",
    "          callbacks=[model_ckpt])\n",
    "\n",
    "# Collect results\n",
    "train_loss = model.history.history[\"loss\"]\n",
    "valid_loss = model.history.history[\"val_loss\"]\n",
    "train_acc = model.history.history[\"acc\"]\n",
    "valid_acc = model.history.history[\"val_acc\"]\n",
    "\n",
    "# Load back\n",
    "model = keras.models.load_model(\"./tmp.h5\")\n",
    "loss_loadback, acc_loadback = model.evaluate(x_test, y_test)"
   ]
  },
  {
   "cell_type": "code",
   "execution_count": 8,
   "metadata": {
    "scrolled": true
   },
   "outputs": [
    {
     "data": {
      "image/png": "[encoded data removed]",
      "text/plain": [
       "<Figure size 432x288 with 1 Axes>"
      ]
     },
     "metadata": {
      "needs_background": "light"
     },
     "output_type": "display_data"
    },
    {
     "data": {
      "image/png": "[encoded data removed]",
      "text/plain": [
       "<Figure size 432x288 with 1 Axes>"
      ]
     },
     "metadata": {
      "needs_background": "light"
     },
     "output_type": "display_data"
    }
   ],
   "source": [
    "import matplotlib.pyplot as plt\n",
    "%matplotlib inline\n",
    "\"\"\"Code Here\n",
    "將結果繪出\n",
    "\"\"\"\n",
    "plt.plot(range(len(train_loss)), train_loss, label=\"train loss\")\n",
    "plt.plot(range(len(valid_loss)), valid_loss, label=\"valid loss\")\n",
    "plt.hlines(y=loss_loadback, xmin=0, xmax=len(train_loss), colors='r', linestyles='--')\n",
    "plt.legend()\n",
    "plt.title(\"Loss\")\n",
    "plt.show()\n",
    "\n",
    "plt.plot(range(len(train_acc)), train_acc, label=\"train accuracy\")\n",
    "plt.plot(range(len(valid_acc)), valid_acc, label=\"valid accuracy\")\n",
    "plt.hlines(y=acc_loadback, xmin=0, xmax=len(train_loss), colors='r', linestyles='--')\n",
    "plt.legend()\n",
    "plt.title(\"Accuracy\")\n",
    "plt.show()"
   ]
  }
 ],
 "metadata": {
  "kernelspec": {
   "display_name": "Python 3",
   "language": "python",
   "name": "python3"
  },
  "language_info": {
   "codemirror_mode": {
    "name": "ipython",
    "version": 3
   },
   "file_extension": ".py",
   "mimetype": "text/x-python",
   "name": "python",
   "nbconvert_exporter": "python",
   "pygments_lexer": "ipython3",
   "version": "3.7.3"
  }
 },
 "nbformat": 4,
 "nbformat_minor": 2
}
