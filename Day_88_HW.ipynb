{
 "cells": [
  {
   "cell_type": "markdown",
   "metadata": {},
   "source": [
    "## Work\n",
    "1. 請嘗試寫一個 callback 用來記錄各類別在訓練過程中，對驗證集的 True Positive 與 True Negative"
   ]
  },
  {
   "cell_type": "code",
   "execution_count": 1,
   "metadata": {},
   "outputs": [
    {
     "name": "stderr",
     "output_type": "stream",
     "text": [
      "Using TensorFlow backend.\n"
     ]
    }
   ],
   "source": [
    "import os\n",
    "import keras"
   ]
  },
  {
   "cell_type": "code",
   "execution_count": 2,
   "metadata": {},
   "outputs": [],
   "source": [
    "train, test = keras.datasets.cifar10.load_data()"
   ]
  },
  {
   "cell_type": "code",
   "execution_count": 3,
   "metadata": {},
   "outputs": [],
   "source": [
    "## 資料前處理\n",
    "def preproc_x(x, flatten=True):\n",
    "    x = x / 255.\n",
    "    if flatten:\n",
    "        x = x.reshape((len(x), -1))\n",
    "    return x\n",
    "\n",
    "def preproc_y(y, num_classes=10):\n",
    "    if y.shape[-1] == 1:\n",
    "        y = keras.utils.to_categorical(y, num_classes)\n",
    "    return y    "
   ]
  },
  {
   "cell_type": "code",
   "execution_count": 4,
   "metadata": {},
   "outputs": [],
   "source": [
    "x_train, y_train = train\n",
    "x_test, y_test = test\n",
    "\n",
    "# Preproc the inputs\n",
    "x_train = preproc_x(x_train)\n",
    "x_test = preproc_x(x_test)\n",
    "\n",
    "# Preprc the outputs\n",
    "y_train = preproc_y(y_train)\n",
    "y_test = preproc_y(y_test)"
   ]
  },
  {
   "cell_type": "code",
   "execution_count": 5,
   "metadata": {},
   "outputs": [],
   "source": [
    "from keras.layers import BatchNormalization\n",
    "def build_mlp(input_shape, output_units=10, num_neurons=[256, 128]):\n",
    "    input_layer = keras.layers.Input(input_shape)\n",
    "    \n",
    "    for i, n_units in enumerate(num_neurons):\n",
    "        if i == 0:\n",
    "            x = keras.layers.Dense(units=n_units, \n",
    "                                   activation=\"relu\")(input_layer)\n",
    "            x = BatchNormalization()(x)\n",
    "        else:\n",
    "            x = keras.layers.Dense(units=n_units, \n",
    "                                   activation=\"relu\")(x)\n",
    "            x = BatchNormalization()(x)\n",
    "    \n",
    "    out = keras.layers.Dense(units=output_units, activation=\"softmax\", name=\"output\")(x)\n",
    "    \n",
    "    model = keras.models.Model(inputs=[input_layer], outputs=[out])\n",
    "    return model"
   ]
  },
  {
   "cell_type": "code",
   "execution_count": 6,
   "metadata": {},
   "outputs": [],
   "source": [
    "## 超參數設定\n",
    "LEARNING_RATE = 1e-3\n",
    "EPOCHS = 25\n",
    "BATCH_SIZE = 1024\n",
    "MOMENTUM = 0.95"
   ]
  },
  {
   "cell_type": "code",
   "execution_count": 14,
   "metadata": {},
   "outputs": [],
   "source": [
    "# 載入 Callbacks\n",
    "from keras.callbacks import Callback\n",
    "from sklearn.metrics import fbeta_score #beta 設2即可\n",
    "# Record_fp_tp\n",
    "class Record_tp_tn(Callback):\n",
    "    \"\"\"Code Here\n",
    "    撰寫一個紀錄 ture positive 與 true negative 數量的 callbacks    \n",
    "    \"\"\"\n",
    "    def on_train_begin(self, epoch, logs = {}):\n",
    "        logs = logs or {}\n",
    "        record_items = [\"val_auc\", \"val_f1sc\", \"val_fp\", \"val_fn\", \"val_tp\", \"val_tn\"]\n",
    "        for i in record_items:\n",
    "            if i not in self.params['metrics']:\n",
    "                self.params['metrics'].append(i)\n",
    "    \n",
    "    def on_epoch_end(self, epoch, logs = {}, thres=0.5):\n",
    "        logs = logs or {}\n",
    "        y_true = self.validation_data[1].argmax(axis = 1)\n",
    "        y_pred = self.model.predict(self.validation_data[0])\n",
    "        y_pred = (y_pred[:, 1] >= thres) * 1\n",
    "        \n",
    "        logs[\"val_f2_tp\"] = fbeta_score(y_true = y_true, y_pred = y_pred,beta=2, average=\"weighted\")\n",
    "        logs['val_f2_tn'] = 1-fbeta_score(y_true = y_true, y_pred = y_pred, beta=2,average=\"weighted\")\n",
    "        \n",
    "rec_tptn = Record_tp_tn()"
   ]
  },
  {
   "cell_type": "code",
   "execution_count": 15,
   "metadata": {
    "scrolled": true
   },
   "outputs": [
    {
     "name": "stdout",
     "output_type": "stream",
     "text": [
      "_________________________________________________________________\n",
      "Layer (type)                 Output Shape              Param #   \n",
      "=================================================================\n",
      "input_5 (InputLayer)         (None, 3072)              0         \n",
      "_________________________________________________________________\n",
      "dense_9 (Dense)              (None, 256)               786688    \n",
      "_________________________________________________________________\n",
      "batch_normalization_9 (Batch (None, 256)               1024      \n",
      "_________________________________________________________________\n",
      "dense_10 (Dense)             (None, 128)               32896     \n",
      "_________________________________________________________________\n",
      "batch_normalization_10 (Batc (None, 128)               512       \n",
      "_________________________________________________________________\n",
      "output (Dense)               (None, 10)                1290      \n",
      "=================================================================\n",
      "Total params: 822,410\n",
      "Trainable params: 821,642\n",
      "Non-trainable params: 768\n",
      "_________________________________________________________________\n",
      "Train on 50000 samples, validate on 10000 samples\n",
      "Epoch 1/25\n",
      "50000/50000 [==============================] - 8s 159us/step - loss: 2.1907 - acc: 0.2697 - val_loss: 2.0413 - val_acc: 0.3162\n",
      "Epoch 2/25\n",
      " 1024/50000 [..............................] - ETA: 5s - loss: 1.9000 - acc: 0.3535"
     ]
    },
    {
     "name": "stderr",
     "output_type": "stream",
     "text": [
      "C:\\Users\\user\\Anaconda3\\lib\\site-packages\\sklearn\\metrics\\classification.py:1143: UndefinedMetricWarning: F-score is ill-defined and being set to 0.0 in labels with no predicted samples.\n",
      "  'precision', 'predicted', average, warn_for)\n"
     ]
    },
    {
     "name": "stdout",
     "output_type": "stream",
     "text": [
      "50000/50000 [==============================] - 7s 140us/step - loss: 1.7772 - acc: 0.3812 - val_loss: 1.8052 - val_acc: 0.3729\n",
      "Epoch 3/25\n",
      "50000/50000 [==============================] - 7s 141us/step - loss: 1.6725 - acc: 0.4151 - val_loss: 1.7179 - val_acc: 0.3971\n",
      "Epoch 4/25\n",
      "50000/50000 [==============================] - 7s 139us/step - loss: 1.6141 - acc: 0.4359 - val_loss: 1.6527 - val_acc: 0.4174\n",
      "Epoch 5/25\n",
      "50000/50000 [==============================] - 7s 144us/step - loss: 1.5696 - acc: 0.4521 - val_loss: 1.6265 - val_acc: 0.4268\n",
      "Epoch 6/25\n",
      "50000/50000 [==============================] - 7s 132us/step - loss: 1.5368 - acc: 0.4643 - val_loss: 1.6053 - val_acc: 0.4361\n",
      "Epoch 7/25\n",
      "50000/50000 [==============================] - 7s 140us/step - loss: 1.5062 - acc: 0.4747 - val_loss: 1.5790 - val_acc: 0.4408\n",
      "Epoch 8/25\n",
      "50000/50000 [==============================] - 7s 142us/step - loss: 1.4811 - acc: 0.4828 - val_loss: 1.5619 - val_acc: 0.4492\n",
      "Epoch 9/25\n",
      "50000/50000 [==============================] - 7s 138us/step - loss: 1.4557 - acc: 0.4917 - val_loss: 1.5474 - val_acc: 0.4528\n",
      "Epoch 10/25\n",
      "50000/50000 [==============================] - 7s 142us/step - loss: 1.4345 - acc: 0.4996 - val_loss: 1.5376 - val_acc: 0.4581\n",
      "Epoch 11/25\n",
      "50000/50000 [==============================] - 7s 139us/step - loss: 1.4139 - acc: 0.5059 - val_loss: 1.5284 - val_acc: 0.4582\n",
      "Epoch 12/25\n",
      "50000/50000 [==============================] - 6s 128us/step - loss: 1.3945 - acc: 0.5129 - val_loss: 1.5082 - val_acc: 0.4710\n",
      "Epoch 13/25\n",
      "50000/50000 [==============================] - 6s 121us/step - loss: 1.3772 - acc: 0.5198 - val_loss: 1.5059 - val_acc: 0.4685\n",
      "Epoch 14/25\n",
      "50000/50000 [==============================] - 6s 124us/step - loss: 1.3610 - acc: 0.5286 - val_loss: 1.4894 - val_acc: 0.4780\n",
      "Epoch 15/25\n",
      "50000/50000 [==============================] - 6s 126us/step - loss: 1.3428 - acc: 0.5335 - val_loss: 1.4819 - val_acc: 0.4783\n",
      "Epoch 16/25\n",
      "50000/50000 [==============================] - 6s 125us/step - loss: 1.3267 - acc: 0.5393 - val_loss: 1.4750 - val_acc: 0.4809\n",
      "Epoch 17/25\n",
      "50000/50000 [==============================] - 6s 123us/step - loss: 1.3115 - acc: 0.5447 - val_loss: 1.4875 - val_acc: 0.4755\n",
      "Epoch 18/25\n",
      "50000/50000 [==============================] - 6s 123us/step - loss: 1.2970 - acc: 0.5490 - val_loss: 1.4606 - val_acc: 0.4828\n",
      "Epoch 19/25\n",
      "50000/50000 [==============================] - 6s 127us/step - loss: 1.2829 - acc: 0.5557 - val_loss: 1.4629 - val_acc: 0.4869\n",
      "Epoch 20/25\n",
      "50000/50000 [==============================] - 7s 135us/step - loss: 1.2690 - acc: 0.5593 - val_loss: 1.4701 - val_acc: 0.4873\n",
      "Epoch 21/25\n",
      "50000/50000 [==============================] - 6s 127us/step - loss: 1.2552 - acc: 0.5644 - val_loss: 1.4560 - val_acc: 0.4914\n",
      "Epoch 22/25\n",
      "50000/50000 [==============================] - 6s 128us/step - loss: 1.2428 - acc: 0.5697 - val_loss: 1.4670 - val_acc: 0.4858\n",
      "Epoch 23/25\n",
      "50000/50000 [==============================] - 6s 124us/step - loss: 1.2304 - acc: 0.5747 - val_loss: 1.4502 - val_acc: 0.4932\n",
      "Epoch 24/25\n",
      "50000/50000 [==============================] - 6s 128us/step - loss: 1.2171 - acc: 0.5785 - val_loss: 1.4657 - val_acc: 0.4822\n",
      "Epoch 25/25\n",
      "50000/50000 [==============================] - 6s 126us/step - loss: 1.2034 - acc: 0.5838 - val_loss: 1.4450 - val_acc: 0.4939\n"
     ]
    }
   ],
   "source": [
    "model = build_mlp(input_shape=x_train.shape[1:])\n",
    "model.summary()\n",
    "optimizer = keras.optimizers.SGD(lr=LEARNING_RATE, nesterov=True, momentum=MOMENTUM)\n",
    "model.compile(loss=\"categorical_crossentropy\", metrics=[\"accuracy\"], optimizer=optimizer)\n",
    "\n",
    "\"\"\"Code Here\n",
    "將 callbacks 放入模型訓練流程中\n",
    "\"\"\"\n",
    "model.fit(x_train, y_train, \n",
    "          epochs=EPOCHS, \n",
    "          batch_size=BATCH_SIZE, \n",
    "          validation_data=(x_test, y_test), \n",
    "          shuffle=True,\n",
    "          callbacks=[rec_tptn])\n",
    "\n",
    "# Collect results\n",
    "train_loss = model.history.history[\"loss\"]\n",
    "valid_loss = model.history.history[\"val_loss\"]\n",
    "train_acc = model.history.history[\"acc\"]\n",
    "valid_acc = model.history.history[\"val_acc\"]\n",
    "\n",
    "\"\"\"Code Here\n",
    "將 tp/tn 從訓練完的模型中取出\n",
    "\"\"\"\n",
    "valid_tp = model.history.history['val_f2_tp']\n",
    "valid_tn = model.history.history['val_f2_tn']"
   ]
  },
  {
   "cell_type": "code",
   "execution_count": 16,
   "metadata": {},
   "outputs": [
    {
     "data": {
      "image/png": "[encoded data removed]",
      "text/plain": [
       "<Figure size 432x288 with 1 Axes>"
      ]
     },
     "metadata": {
      "needs_background": "light"
     },
     "output_type": "display_data"
    },
    {
     "data": {
      "image/png": "[encoded data removed]",
      "text/plain": [
       "<Figure size 432x288 with 1 Axes>"
      ]
     },
     "metadata": {
      "needs_background": "light"
     },
     "output_type": "display_data"
    },
    {
     "data": {
      "image/png": "[encoded data removed]",
      "text/plain": [
       "<Figure size 432x288 with 1 Axes>"
      ]
     },
     "metadata": {
      "needs_background": "light"
     },
     "output_type": "display_data"
    }
   ],
   "source": [
    "import matplotlib.pyplot as plt\n",
    "%matplotlib inline\n",
    "\n",
    "plt.plot(range(len(train_loss)), train_loss, label=\"train loss\")\n",
    "plt.plot(range(len(valid_loss)), valid_loss, label=\"valid loss\")\n",
    "plt.legend()\n",
    "plt.title(\"Loss\")\n",
    "plt.show()\n",
    "\n",
    "plt.plot(range(len(train_acc)), train_acc, label=\"train accuracy\")\n",
    "plt.plot(range(len(valid_acc)), valid_acc, label=\"valid accuracy\")\n",
    "plt.legend()\n",
    "plt.title(\"Accuracy\")\n",
    "plt.show()\n",
    "\n",
    "plt.plot(range(len(valid_tp)), valid_tp, label=\"valid tp\", color=\"navy\")\n",
    "plt.plot(range(len(valid_tn)), valid_tn, label=\"valid tn\", color=\"red\")\n",
    "plt.legend()\n",
    "plt.title(\"True positives and True Negatives\")\n",
    "plt.show()\n"
   ]
  },
  {
   "cell_type": "code",
   "execution_count": null,
   "metadata": {},
   "outputs": [],
   "source": []
  }
 ],
 "metadata": {
  "kernelspec": {
   "display_name": "Python 3",
   "language": "python",
   "name": "python3"
  },
  "language_info": {
   "codemirror_mode": {
    "name": "ipython",
    "version": 3
   },
   "file_extension": ".py",
   "mimetype": "text/x-python",
   "name": "python",
   "nbconvert_exporter": "python",
   "pygments_lexer": "ipython3",
   "version": "3.7.3"
  }
 },
 "nbformat": 4,
 "nbformat_minor": 2
}
