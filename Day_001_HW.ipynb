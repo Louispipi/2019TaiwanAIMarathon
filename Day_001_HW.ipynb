{
 "cells": [
  {
   "cell_type": "markdown",
   "metadata": {},
   "source": [
    "## 作業1； \n",
    "## 請上 Kaggle, 在 Competitions 或 Dataset 中找一組競賽或資料並寫下："
   ]
  },
  {
   "cell_type": "markdown",
   "metadata": {},
   "source": [
    "#### 1. 你選的這組資料為何重要\n",
    "所選的資料為：\n",
    "#### Trending YouTube Video Statistics\n",
    "Daily statistics for trending YouTube videos\n",
    "\n",
    "<br/> 會選擇這個最為主題，是因為目前新媒體當道，各大品牌、企業都想使用新媒體來做為重點宣傳管道之一，增加他們的品牌知名度，而若能成功分析出能上YouTube熱門榜的影片元素的話，或者就可以以此參考來製作影片，藉以增強宣傳力道"
   ]
  },
  {
   "cell_type": "markdown",
   "metadata": {},
   "source": [
    "#### 2. 資料從何而來 (tips: 譬如提供者是誰、以什麼方式蒐集)\n",
    "蒐集的管道是來自於YouTube的API"
   ]
  },
  {
   "cell_type": "markdown",
   "metadata": {},
   "source": [
    "#### 3. 蒐集而來的資料型態為何\n",
    "按照資料不同，有不同的型態：\n",
    "* 用戶ID、影片名稱、網址為文字\n",
    "* 按讚數、分享數、播放數為數字\n",
    "* 有關日期的皆為時間格式"
   ]
  },
  {
   "cell_type": "markdown",
   "metadata": {},
   "source": [
    "#### 4. 這組資料想解決的問題如何評估\n",
    "* 可把資料先切成對照組和測試組\n",
    "* 以測試組去分析數據，找出能上熱門的相關指標\n",
    "* 之後以此指標丟回對照組去跑，看是否吻合結果"
   ]
  },
  {
   "cell_type": "markdown",
   "metadata": {},
   "source": [
    "## 作業二：\n",
    "## 想像你經營一個自由載客車隊，你希望能透過數據分析以提升業績，請你思考並描述你如何規劃整體的分析/解決方案："
   ]
  },
  {
   "cell_type": "markdown",
   "metadata": {},
   "source": [
    "#### 1. 核心問題為何 (tips：如何定義 「提升業績 & 你的假設」)\n",
    "* 假設這次的提升業績目標為減少流失的乘客\n",
    "* 假設在特定的時間/地點會有載客需求大於可供乘載的車子，導致載客等待太久，轉為使用其他車隊\n",
    "* 先用既有的資料，找出何時會有最多/少載客的時間，以及最多/少上下車的地點\n",
    "* 找出是否在最多的時間地點有供給跟不上需求，以及最少的時間地點是否有車子供給大於需求，導致空車時間太久\n",
    "* 找出後，再去解析此時此地的顧客的輪廓，藉以推論那些時間也會出現類似的顧客群\n",
    "* 有以上資料後，便和車隊司機溝通，排出能符合需求的班表 (可依時間、地點安排)，減少空車時間和流失客"
   ]
  },
  {
   "cell_type": "markdown",
   "metadata": {},
   "source": [
    "#### 2. 資料從何而來 (tips：哪些資料可能會對你想問的問題產生影響 & 資料如何蒐集)\n",
    "* 假設叫車服務是以App來進行的話，便能取得使用者的叫車時間、上下車地點和等待時間等等，但若考慮到此自由載客車隊具有和目前一般計程車服務，可路邊攔車的話，且他們是以現金支付，那就會缺失這邊資料，即使司機能做紀錄，但可能會產生誤差，導致研究結果偏誤。"
   ]
  },
  {
   "cell_type": "markdown",
   "metadata": {},
   "source": [
    "#### 3. 蒐集而來的資料型態為何\n",
    "* 上下車地點若以經緯度或郵遞區號來考量，可能就會是數字格式，但若是路名或地標，就是以文字格式為主\n",
    "* 上下車時間為時間格式\n",
    "* 若能拿到消費者在上下車後的消費行為 (購買商品)、使用目的和職業等，此就為文字格式居多"
   ]
  },
  {
   "cell_type": "markdown",
   "metadata": {},
   "source": [
    "#### 4. 你要回答的問題，其如何評估 (tips：你的假設如何驗證)\n",
    "* 跟司機溝通好，最佳的載客時間地點後，執行一陣子後，看流失客比率是否有減少，若能減少5%以上，及算達到不錯的成績。\n",
    "\n",
    "  ##### 流失客比率= (未上車乘客/總叫車輛)*100% "
   ]
  },
  {
   "cell_type": "markdown",
   "metadata": {},
   "source": [
    "## 作業3"
   ]
  },
  {
   "cell_type": "markdown",
   "metadata": {},
   "source": [
    "## 練習時間\n",
    "#### 請寫一個函式用來計算 Mean Square Error\n",
    "$ MSE = \\frac{1}{n}\\sum_{i=1}^{n}{(Y_i - \\hat{Y}_i)^2} $\n",
    "\n",
    "### Hint: [如何取平方](https://googoodesign.gitbooks.io/-ezpython/unit-1.html)"
   ]
  },
  {
   "cell_type": "code",
   "execution_count": 1,
   "metadata": {},
   "outputs": [],
   "source": [
    "import numpy as np\n",
    "import matplotlib.pyplot as plt"
   ]
  },
  {
   "cell_type": "code",
   "execution_count": 6,
   "metadata": {},
   "outputs": [],
   "source": [
    "def mean_absolute_error(y, yp):\n",
    "    mae = MAE = sum(abs(y - yp)) / len(y)\n",
    "    return mae"
   ]
  },
  {
   "cell_type": "code",
   "execution_count": 22,
   "metadata": {},
   "outputs": [],
   "source": [
    "def mean_squared_error(y,yp):\n",
    "    \"\"\"\n",
    "    請完成這個 Function 後往下執行\n",
    "    \"\"\"\n",
    "    MSE= mse=sum((y-yp)**2)/len(y)\n",
    "    return MSE"
   ]
  },
  {
   "cell_type": "code",
   "execution_count": 3,
   "metadata": {},
   "outputs": [
    {
     "data": {
      "image/png": "[encoded data removed]",
      "text/plain": [
       "<matplotlib.figure.Figure at 0x1af7f47a048>"
      ]
     },
     "metadata": {},
     "output_type": "display_data"
    }
   ],
   "source": [
    "w = 3\n",
    "b = 0.5\n",
    "\n",
    "x_lin = np.linspace(0, 100, 101)\n",
    "\n",
    "y = (x_lin + np.random.randn(101) * 5) * w + b\n",
    "\n",
    "plt.plot(x_lin, y, 'b.', label = 'data points')\n",
    "plt.title(\"Assume we have data points\")\n",
    "plt.legend(loc = 2)\n",
    "plt.show()"
   ]
  },
  {
   "cell_type": "code",
   "execution_count": 4,
   "metadata": {},
   "outputs": [
    {
     "data": {
      "image/png": "[encoded data removed]",
      "text/plain": [
       "<matplotlib.figure.Figure at 0x1af7f476dd8>"
      ]
     },
     "metadata": {},
     "output_type": "display_data"
    }
   ],
   "source": [
    "y_hat = x_lin * w + b\n",
    "plt.plot(x_lin, y, 'b.', label = 'data')\n",
    "plt.plot(x_lin, y_hat, 'r-', label = 'prediction')\n",
    "plt.title(\"Assume we have data points (And the prediction)\")\n",
    "plt.legend(loc = 2)\n",
    "plt.show()"
   ]
  },
  {
   "cell_type": "code",
   "execution_count": 21,
   "metadata": {},
   "outputs": [
    {
     "name": "stdout",
     "output_type": "stream",
     "text": [
      "The Mean squared error is 212.570\n",
      "The Mean absolute error is 11.782\n"
     ]
    }
   ],
   "source": [
    "# 執行 Function, 確認有沒有正常執行\n",
    "MSE = mean_squared_error(y, y_hat)\n",
    "MAE = mean_absolute_error(y, y_hat)\n",
    "print(\"The Mean squared error is %.3f\" % (MSE))\n",
    "print(\"The Mean absolute error is %.3f\" % (MAE))"
   ]
  }
 ],
 "metadata": {
  "anaconda-cloud": {},
  "kernelspec": {
   "display_name": "Python 3",
   "language": "python",
   "name": "python3"
  },
  "language_info": {
   "codemirror_mode": {
    "name": "ipython",
    "version": 3
   },
   "file_extension": ".py",
   "mimetype": "text/x-python",
   "name": "python",
   "nbconvert_exporter": "python",
   "pygments_lexer": "ipython3",
   "version": "3.6.4"
  }
 },
 "nbformat": 4,
 "nbformat_minor": 1
}
