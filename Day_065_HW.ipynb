{
 "cells": [
  {
   "cell_type": "markdown",
   "metadata": {},
   "source": [
    "# 作業\n",
    "* 選擇分類資料集(右下)-螺旋雙臂 - 交錯六群，限定特徵只能使用前兩個，隱藏層 2 層滿 (共 8 * 2 =16 個神經元)，  \n",
    "  遞迴次數只允許跑到500次，但可以自由調整 批次大小、學習速率、啟動函數、正規化選項與參數\n",
    "* 在上述限制下，挑戰看看測試誤差 (Test Loss) 最低能到多少? 請回答你的上述幾項參數與 Test Loss 數"
   ]
  },
  {
   "cell_type": "markdown",
   "metadata": {
    "collapsed": true
   },
   "source": []
  },
  {
   "cell_type": "markdown",
   "metadata": {
    "collapsed": true
   },
   "source": [
    "![](https://lh3.googleusercontent.com/DcDxIBUi8Vkg8IFTroDI1Ul6mk4ppVBeTCj-jCXuyEbl-xhwy3WyjNw6Jqw9-BByRMvJ-M6hhsoo6mjOje-80pryIKsLHzNbS5ZAvzJMnqSuy9KfE71nmPGUhEpTdPbNdlKCwegauhQxv32GicHYH1XciO5HMM97bt1k_yjCeuRwIvtqvrg9meUjpRkCRzt41czUNsaeb-vH2qmKlQSmk0y0IITHCequzVFlIFXZS5mB-0HXvvYKH_gsFj4SYiPV1WwBxtSUvGpb86_DWoIMTOzvMuD01jottUUTuLtRD-UxuGMvjXpazgACqkLkDPMRkYVKd67iOM1_PBoMuZ8VBPYLPt-oIbigp7lD9ldicWD2NU5Y-cYGqUJmFnXAgJyGccjziT3bkW0rBdTFsMhpUPunprls8wtODzOdS4jOuJVwocRPR6DCBqtH-8fuzKHnwc0grQmzgOwS2nG-HbSguVKd2P4--o-wKs_Cfkp49P5auZZYE9KKdyaGfN_Tvo_ms3QSa7in7RwXVbxFFrDttoolyYdA_EtoENxJkbWJdfIuK-2AognWwVmLgWZ1hrWc1IoFBY46IAjBLD_YwNhCG-3X4B198Wk0x7-SjoRXaBy9SbjFiIdYNkkHfwlEgWtgjFD4p5aTcbDYtFIjpVKE5VY3LATqCzVuew5LlvrfGdWSNS7wBKtA7zSyNEEeAzQ88c0W90YqzLwUXJte63634U_jvg=w2620-h1325-no)"
   ]
  }
 ],
 "metadata": {
  "kernelspec": {
   "display_name": "Python 3",
   "language": "python",
   "name": "python3"
  },
  "language_info": {
   "codemirror_mode": {
    "name": "ipython",
    "version": 3
   },
   "file_extension": ".py",
   "mimetype": "text/x-python",
   "name": "python",
   "nbconvert_exporter": "python",
   "pygments_lexer": "ipython3",
   "version": "3.6.4"
  }
 },
 "nbformat": 4,
 "nbformat_minor": 2
}
