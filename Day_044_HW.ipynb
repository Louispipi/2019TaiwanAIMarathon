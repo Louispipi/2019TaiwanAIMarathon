{
 "cells": [
  {
   "cell_type": "markdown",
   "metadata": {},
   "source": [
    "## [作業重點]\n",
    "確保你了解隨機森林模型中每個超參數的意義，並觀察調整超參數對結果的影響"
   ]
  },
  {
   "cell_type": "markdown",
   "metadata": {},
   "source": [
    "## 作業\n",
    "\n",
    "1. 試著調整 RandomForestClassifier(...) 中的參數，並觀察是否會改變結果？\n",
    "2. 改用其他資料集 (boston, wine)，並與回歸模型與決策樹的結果進行比較"
   ]
  },
  {
   "cell_type": "code",
   "execution_count": 9,
   "metadata": {},
   "outputs": [],
   "source": [
    "from sklearn import datasets,metrics\n",
    "from sklearn.ensemble import RandomForestClassifier\n",
    "from sklearn.ensemble import RandomForestRegressor\n",
    "from sklearn import linear_model\n",
    "from sklearn.model_selection import train_test_split"
   ]
  },
  {
   "cell_type": "markdown",
   "metadata": {},
   "source": [
    "# Boston"
   ]
  },
  {
   "cell_type": "code",
   "execution_count": 13,
   "metadata": {},
   "outputs": [
    {
     "name": "stdout",
     "output_type": "stream",
     "text": [
      "R-Square of regression    : 25.407976717075297\n",
      "R-Square of Random Forest : 14.7796205882353\n"
     ]
    }
   ],
   "source": [
    "boston=datasets.load_boston()\n",
    "x_train,x_test,y_train,y_test=train_test_split(boston.data,boston.target,test_size=0.2,random_state=4)\n",
    "#回歸模型\n",
    "reg=linear_model.LinearRegression()\n",
    "reg.fit(x_train,y_train)\n",
    "y_predict_reg=reg.predict(x_test)\n",
    "#Random Forest\n",
    "RF_reg=RandomForestRegressor()\n",
    "RF_reg.fit(x_train,y_train)\n",
    "y_predict_RF_reg=RF_reg.predict(x_test)\n",
    "\n",
    "#輸出比較結果\n",
    "print(\"R-Square of regression    :\", metrics.mean_squared_error(y_test,y_predict_reg))\n",
    "print(\"R-Square of Random Forest :\", metrics.mean_squared_error(y_test,y_predict_RF_reg))"
   ]
  },
  {
   "cell_type": "markdown",
   "metadata": {},
   "source": [
    "# Wine"
   ]
  },
  {
   "cell_type": "code",
   "execution_count": 20,
   "metadata": {},
   "outputs": [
    {
     "name": "stdout",
     "output_type": "stream",
     "text": [
      "Accuracy of regression    : 0.9722222222222222\n",
      "Accuracy of Random Forest : 1.0\n"
     ]
    }
   ],
   "source": [
    "wine=datasets.load_wine()\n",
    "x_train,x_test,y_train,y_test=train_test_split(wine.data,wine.target,test_size=0.2,random_state=4)\n",
    "#回歸模型\n",
    "log=linear_model.LogisticRegression()\n",
    "log.fit(x_train,y_train)\n",
    "y_predict_log=log.predict(x_test)\n",
    "#Random Forest\n",
    "RF_clf=RandomForestClassifier(n_estimators=20,max_depth=3)\n",
    "RF_clf.fit(x_train,y_train)\n",
    "y_predict_RF_log=RF_clf.predict(x_test)\n",
    "\n",
    "#輸出比較結果\n",
    "print(\"Accuracy of regression    :\", metrics.accuracy_score(y_test,y_predict_log))\n",
    "print(\"Accuracy of Random Forest :\", metrics.accuracy_score(y_test,y_predict_RF_log))"
   ]
  }
 ],
 "metadata": {
  "kernelspec": {
   "display_name": "Python 3",
   "language": "python",
   "name": "python3"
  },
  "language_info": {
   "codemirror_mode": {
    "name": "ipython",
    "version": 3
   },
   "file_extension": ".py",
   "mimetype": "text/x-python",
   "name": "python",
   "nbconvert_exporter": "python",
   "pygments_lexer": "ipython3",
   "version": "3.6.4"
  }
 },
 "nbformat": 4,
 "nbformat_minor": 2
}
